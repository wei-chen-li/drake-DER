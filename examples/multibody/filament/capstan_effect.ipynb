{
 "cells": [
  {
   "cell_type": "code",
   "execution_count": null,
   "id": "b58adddf",
   "metadata": {},
   "outputs": [],
   "source": [
    "%load_ext autoreload\n",
    "%autoreload 2"
   ]
  },
  {
   "cell_type": "code",
   "execution_count": null,
   "id": "4495b8ee",
   "metadata": {},
   "outputs": [],
   "source": [
    "import numpy as np\n",
    "import matplotlib.pyplot as plt\n",
    "\n",
    "from pydrake.all import Meshcat\n",
    "\n",
    "from capstan_effect_test import CapstanEffectTest"
   ]
  },
  {
   "cell_type": "code",
   "execution_count": null,
   "id": "867b92d1",
   "metadata": {},
   "outputs": [],
   "source": [
    "meshcat = Meshcat()"
   ]
  },
  {
   "cell_type": "code",
   "execution_count": null,
   "id": "a49109fa",
   "metadata": {},
   "outputs": [],
   "source": [
    "theta_list = np.arange(0.4*np.pi, 2.01*np.pi, 0.1*np.pi)\n",
    "ratio_list = []\n",
    "for theta in theta_list:\n",
    "    t, f1, f2 = CapstanEffectTest(theta=theta, delta_theta=0.025*np.pi, simulation_time=2, meshcat=meshcat)\n",
    "    ratio = np.mean((np.abs(f2) / np.abs(f1))[-50:])\n",
    "    ratio_list.append(ratio)\n"
   ]
  },
  {
   "cell_type": "code",
   "execution_count": null,
   "id": "8c16498f",
   "metadata": {},
   "outputs": [],
   "source": [
    "plt.plot(theta_list, np.log(ratio_list), 'o')\n",
    "plt.show()"
   ]
  }
 ],
 "metadata": {
  "kernelspec": {
   "display_name": "Python 3",
   "language": "python",
   "name": "python3"
  },
  "language_info": {
   "codemirror_mode": {
    "name": "ipython",
    "version": 3
   },
   "file_extension": ".py",
   "mimetype": "text/x-python",
   "name": "python",
   "nbconvert_exporter": "python",
   "pygments_lexer": "ipython3",
   "version": "3.10.12"
  }
 },
 "nbformat": 4,
 "nbformat_minor": 5
}
