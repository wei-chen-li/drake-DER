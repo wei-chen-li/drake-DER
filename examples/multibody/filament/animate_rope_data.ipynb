{
 "cells": [
  {
   "cell_type": "code",
   "execution_count": null,
   "id": "4495b8ee",
   "metadata": {},
   "outputs": [],
   "source": [
    "import numpy as np\n",
    "import plotly.graph_objects as go\n",
    "\n",
    "from pydrake.all import (Meshcat, Filament, Rgba, RigidTransform)"
   ]
  },
  {
   "cell_type": "code",
   "execution_count": null,
   "id": "867b92d1",
   "metadata": {},
   "outputs": [],
   "source": [
    "meshcat = Meshcat()"
   ]
  },
  {
   "cell_type": "code",
   "execution_count": null,
   "id": "71bbe14e",
   "metadata": {},
   "outputs": [],
   "source": [
    "data = np.loadtxt('./filament_configurations/node_data.txt')\n",
    "data = data.reshape(-1, 301, 4)\n",
    "\n",
    "filaments = []\n",
    "\n",
    "for k in range(data.shape[0]):\n",
    "    nodes = data[k, :, 0:3].T\n",
    "    filament = Filament(False, nodes, Filament.CircularCrossSection(diameter=3e-3))\n",
    "    filaments.append(filament)\n",
    "\n",
    "dt = 0.001\n",
    "\n",
    "meshcat.StartRecording(frames_per_second=1 / dt)\n",
    "\n",
    "for k in range(650):\n",
    "    t = k * dt\n",
    "    meshcat.SetObject(\"rope\", filaments[k], Rgba(0.7,0.5,0.4,1), time_in_recording=t)\n",
    "    meshcat.SetTransform(\"rope\", RigidTransform(), time_in_recording=t)\n",
    "\n",
    "meshcat.StopRecording()\n",
    "meshcat.PublishRecording()"
   ]
  }
 ],
 "metadata": {
  "kernelspec": {
   "display_name": "Python 3",
   "language": "python",
   "name": "python3"
  },
  "language_info": {
   "codemirror_mode": {
    "name": "ipython",
    "version": 3
   },
   "file_extension": ".py",
   "mimetype": "text/x-python",
   "name": "python",
   "nbconvert_exporter": "python",
   "pygments_lexer": "ipython3",
   "version": "3.10.12"
  }
 },
 "nbformat": 4,
 "nbformat_minor": 5
}
